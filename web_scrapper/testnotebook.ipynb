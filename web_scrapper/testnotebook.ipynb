{
 "cells": [
  {
   "cell_type": "code",
   "execution_count": 2,
   "metadata": {},
   "outputs": [],
   "source": [
    "import urllib.request\n",
    "import time\n",
    "from bs4 import BeautifulSoup\n",
    "from PyPDF2 import PdfReader\n",
    "import pandas as pd\n",
    "import os"
   ]
  },
  {
   "cell_type": "code",
   "execution_count": 9,
   "metadata": {},
   "outputs": [],
   "source": [
    "def remove_tags(soup):\n",
    "\n",
    "    for data in soup(['style', 'script']):\n",
    "        # Remove tags\n",
    "        data.decompose()\n",
    " \n",
    "    # return data by retrieving the tag content\n",
    "    return ' '.join(soup.stripped_strings)\n",
    "\n",
    "def get_links(soup):\n",
    "    divs = soup.select(\"#search div.g\")\n",
    "    out = []\n",
    "    for div in divs:\n",
    "        results = div.find(\"a\", href = True)\n",
    "\n",
    "        # Check if we have found a result\n",
    "        if (len(results) >= 1):\n",
    "\n",
    "            # Print the title\n",
    "            h3 = results[\"href\"]\n",
    "            out.append(h3)\n",
    "\n",
    "    return out\n",
    "\n",
    "def ifcontains(url_str, ignore_list):\n",
    "    res = [ele for ele in ignore_list if(ele in url_str)]\n",
    "    return bool(res)"
   ]
  },
  {
   "cell_type": "code",
   "execution_count": 79,
   "metadata": {},
   "outputs": [
    {
     "data": {
      "text/plain": [
       "['https://www.onex.com/environmental-social-governance',\n",
       " 'https://weatherspark.com/y/53426/Average-Weather-in-Onex-Switzerland-Year-Round',\n",
       " 'https://www.gluskinsheff.com/insights/how-onex-and-gluskin-sheff-use-esg-to-evaluate-investments',\n",
       " 'https://tcktcktck.org/switzerland/geneve/onex',\n",
       " 'https://www.airdrietoday.com/national-business/onex-reports-earnings-loss-amid-challenging-environment-5684976',\n",
       " 'https://www.okotokstoday.ca/national-business/onex-reports-earnings-loss-amid-challenging-environment-5684976',\n",
       " 'https://www.linkedin.com/company/onex']"
      ]
     },
     "execution_count": 79,
     "metadata": {},
     "output_type": "execute_result"
    }
   ],
   "source": [
    "corpo = \"Onex\"\n",
    "keyword = \"climate\"\n",
    "url = \"https://google.com/search?q=\" + corpo.replace(\" \", \"+\") + \"+\" + keyword\n",
    "ignore_list = [\"reddit\", \"twitter\", \"dailywire\", \"guardian\", \"bbc\", \"cbc\", \"forum\", \"\"]\n",
    "headers = {'User-Agent': 'Mozilla/5.0 (Macintosh; Intel Mac OS X 13_2_1) AppleWebKit/537.36 (KHTML, like Gecko) Chrome/111.0.0.0 Safari/537.36'}\n",
    "\n",
    "time.sleep(10)\n",
    "request = urllib.request.Request(url = url, headers=headers)\n",
    "raw_response = urllib.request.urlopen(request).read()\n",
    "str_html = raw_response.decode(encoding='utf-8', errors='ignore')\n",
    "\n",
    "soup = BeautifulSoup(str_html, 'html.parser')\n",
    "link_txt = get_links(soup)\n",
    "\n",
    "link_txt\n"
   ]
  },
  {
   "cell_type": "code",
   "execution_count": 80,
   "metadata": {},
   "outputs": [
    {
     "data": {
      "text/plain": [
       "'https://www.onex.com/environmental-social-governance'"
      ]
     },
     "execution_count": 80,
     "metadata": {},
     "output_type": "execute_result"
    }
   ],
   "source": [
    "url_corp = link_txt[0]\n",
    "url_corp"
   ]
  },
  {
   "cell_type": "code",
   "execution_count": null,
   "metadata": {},
   "outputs": [],
   "source": [
    "request = urllib.request.Request(url = url_corp, headers=headers)\n",
    "raw_response = urllib.request.urlopen(request).read()\n",
    "\n",
    "str_html = raw_response.decode(encoding='utf-8', errors='ignore')\n",
    "soup = BeautifulSoup(str_html, 'html.parser')\n",
    "web_text = remove_tags(soup)\n",
    "\n",
    "output_name = '../company_data/' + corpo + '.txt'\n",
    "if os.path.exists(output_name):\n",
    "    os.remove(output_name)\n",
    "\n",
    "# with open(output_name, 'w') as f:\n",
    "#     f.write(web_text)"
   ]
  },
  {
   "cell_type": "code",
   "execution_count": 6,
   "metadata": {},
   "outputs": [],
   "source": [
    "import codecs\n",
    "f=codecs.open(\"onex.html\", 'r')\n",
    "soup = BeautifulSoup(f, \"html.parser\")"
   ]
  },
  {
   "cell_type": "code",
   "execution_count": 10,
   "metadata": {},
   "outputs": [],
   "source": [
    "corpo = \"Onex\"\n",
    "web_text = remove_tags(soup)\n",
    "\n",
    "output_name = '../company_data/' + corpo + '.txt'\n",
    "if os.path.exists(output_name):\n",
    "    os.remove(output_name)"
   ]
  },
  {
   "cell_type": "code",
   "execution_count": 12,
   "metadata": {},
   "outputs": [],
   "source": [
    "with open(output_name, 'w') as f:\n",
    "    f.write(web_text)"
   ]
  },
  {
   "cell_type": "code",
   "execution_count": null,
   "metadata": {},
   "outputs": [],
   "source": []
  }
 ],
 "metadata": {
  "kernelspec": {
   "display_name": "base",
   "language": "python",
   "name": "python3"
  },
  "language_info": {
   "codemirror_mode": {
    "name": "ipython",
    "version": 3
   },
   "file_extension": ".py",
   "mimetype": "text/x-python",
   "name": "python",
   "nbconvert_exporter": "python",
   "pygments_lexer": "ipython3",
   "version": "3.9.7"
  },
  "orig_nbformat": 4
 },
 "nbformat": 4,
 "nbformat_minor": 2
}
