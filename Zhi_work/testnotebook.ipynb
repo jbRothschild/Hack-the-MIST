{
 "cells": [
  {
   "cell_type": "code",
   "execution_count": 30,
   "metadata": {},
   "outputs": [],
   "source": [
    "import urllib.request\n",
    "import time\n",
    "from bs4 import BeautifulSoup"
   ]
  },
  {
   "cell_type": "code",
   "execution_count": 28,
   "metadata": {},
   "outputs": [],
   "source": [
    "corpo = \"shopify\"\n",
    "keyword = \"climate\"\n",
    "url = \"https://google.com/search?q=\" + corpo + \"+\" + keyword\n",
    "headers = {'User-Agent': 'Mozilla/5.0 (Macintosh; Intel Mac OS X 13_2_1) AppleWebKit/537.36 (KHTML, like Gecko) Chrome/111.0.0.0 Safari/537.36'}\n",
    "# Perform the request\n",
    "time.sleep(15)\n",
    "request = urllib.request.Request(url = url, headers=headers)\n",
    "raw_response = urllib.request.urlopen(request).read()\n",
    "str_html = raw_response.decode(encoding='utf-8', errors='ignore')"
   ]
  },
  {
   "cell_type": "code",
   "execution_count": 83,
   "metadata": {},
   "outputs": [],
   "source": [
    "def get_links(soup):\n",
    "    divs = soup.select(\"#search div.g\")\n",
    "    out = []\n",
    "    for div in divs:\n",
    "        results = div.find(\"a\", href = True)\n",
    "\n",
    "        # Check if we have found a result\n",
    "        if (len(results) >= 1):\n",
    "\n",
    "            # Print the title\n",
    "            h3 = results[\"href\"]\n",
    "            out.append(h3)\n",
    "\n",
    "    return out\n"
   ]
  },
  {
   "cell_type": "code",
   "execution_count": 85,
   "metadata": {},
   "outputs": [],
   "source": [
    "soup = BeautifulSoup(str_html, 'html.parser')\n",
    "link_txt = get_links(soup)\n"
   ]
  },
  {
   "cell_type": "code",
   "execution_count": 89,
   "metadata": {},
   "outputs": [
    {
     "data": {
      "text/plain": [
       "['https://www.shopify.com/ca/climate',\n",
       " 'https://www.reuters.com/business/sustainable-business/stripe-shopify-commit-11-million-carbon-removal-projects-2022-12-15/',\n",
       " 'https://www.mckinsey.com/about-us/new-at-mckinsey-blog/mckinsey-partners-with-stripe-alphabet-shopify-and-meta-on-$925-million-carbon-removal-commitment',\n",
       " 'https://fortune.com/2022/11/01/shopify-stripe-alphabet-meta-mckinsey-sustainability-spend-billion-carbon-removal-stacy-kauk/',\n",
       " 'https://www.linkedin.com/in/stacy-kauk-p-eng/',\n",
       " 'https://www.carbonclick.com/carbon-offsetting-app-for-shopify/',\n",
       " 'https://www.thestreet.com/investing/shopify-sustainabilit-vs-greenwashing',\n",
       " 'https://bend.green/shopify',\n",
       " 'https://readtheimpact.com/shopify-investing-in-climate-to-future-proof-entrepreneurship/']"
      ]
     },
     "execution_count": 89,
     "metadata": {},
     "output_type": "execute_result"
    }
   ],
   "source": [
    "link_txt"
   ]
  },
  {
   "cell_type": "code",
   "execution_count": 87,
   "metadata": {},
   "outputs": [],
   "source": [
    "url_corp = link_txt[0]\n",
    "request = urllib.request.Request(url = url_corp, headers=headers)\n",
    "raw_response = urllib.request.urlopen(request).read()\n",
    "str_html = raw_response.decode(encoding='utf-8', errors='ignore')\n",
    "soup = BeautifulSoup(str_html, 'html.parser')"
   ]
  },
  {
   "cell_type": "code",
   "execution_count": 90,
   "metadata": {},
   "outputs": [],
   "source": [
    "def remove_tags(soup):\n",
    "\n",
    "    for data in soup(['style', 'script']):\n",
    "        # Remove tags\n",
    "        data.decompose()\n",
    " \n",
    "    # return data by retrieving the tag content\n",
    "    return ' '.join(soup.stripped_strings)"
   ]
  },
  {
   "cell_type": "code",
   "execution_count": 91,
   "metadata": {},
   "outputs": [],
   "source": [
    "web_text = remove_tags(soup)"
   ]
  },
  {
   "cell_type": "code",
   "execution_count": 94,
   "metadata": {},
   "outputs": [],
   "source": [
    "with open(corpo + '.txt', 'w') as f:\n",
    "    f.write(web_text)"
   ]
  },
  {
   "cell_type": "code",
   "execution_count": null,
   "metadata": {},
   "outputs": [],
   "source": []
  }
 ],
 "metadata": {
  "kernelspec": {
   "display_name": "base",
   "language": "python",
   "name": "python3"
  },
  "language_info": {
   "codemirror_mode": {
    "name": "ipython",
    "version": 3
   },
   "file_extension": ".py",
   "mimetype": "text/x-python",
   "name": "python",
   "nbconvert_exporter": "python",
   "pygments_lexer": "ipython3",
   "version": "3.9.7"
  },
  "orig_nbformat": 4
 },
 "nbformat": 4,
 "nbformat_minor": 2
}
