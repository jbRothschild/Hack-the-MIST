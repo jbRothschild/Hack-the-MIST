{
 "cells": [
  {
   "cell_type": "code",
   "execution_count": 14,
   "metadata": {},
   "outputs": [],
   "source": [
    "import urllib.request\n",
    "import time\n",
    "from bs4 import BeautifulSoup\n",
    "from PyPDF2 import PdfReader\n",
    "import pandas as pd\n",
    "import os"
   ]
  },
  {
   "cell_type": "code",
   "execution_count": 95,
   "metadata": {},
   "outputs": [],
   "source": [
    "corpo = \"TD\"\n",
    "keyword = \"climate\"\n",
    "url = \"https://google.com/search?q=\" + corpo + \"+\" + keyword\n",
    "headers = {'User-Agent': 'Mozilla/5.0 (Macintosh; Intel Mac OS X 13_2_1) AppleWebKit/537.36 (KHTML, like Gecko) Chrome/111.0.0.0 Safari/537.36'}\n",
    "# Perform the request\n",
    "time.sleep(15)\n",
    "request = urllib.request.Request(url = url, headers=headers)\n",
    "raw_response = urllib.request.urlopen(request).read()\n",
    "str_html = raw_response.decode(encoding='utf-8', errors='ignore')"
   ]
  },
  {
   "cell_type": "code",
   "execution_count": 6,
   "metadata": {},
   "outputs": [],
   "source": [
    "def get_links(soup):\n",
    "    divs = soup.select(\"#search div.g\")\n",
    "    out = []\n",
    "    for div in divs:\n",
    "        results = div.find(\"a\", href = True)\n",
    "\n",
    "        # Check if we have found a result\n",
    "        if (len(results) >= 1):\n",
    "\n",
    "            # Print the title\n",
    "            h3 = results[\"href\"]\n",
    "            out.append(h3)\n",
    "\n",
    "    return out\n"
   ]
  },
  {
   "cell_type": "code",
   "execution_count": 96,
   "metadata": {},
   "outputs": [],
   "source": [
    "soup = BeautifulSoup(str_html, 'html.parser')\n",
    "link_txt = get_links(soup)\n"
   ]
  },
  {
   "cell_type": "code",
   "execution_count": null,
   "metadata": {},
   "outputs": [],
   "source": [
    "url_corp = link_txt[0]\n",
    "if url_corp.endswith(\".pdf\"):\n",
    "    request = urllib.request.urlretrieve(url = url_corp, filename='temp.pdf')\n",
    "    reader = PdfReader('temp.pdf')\n",
    "    print(len(reader.pages))\n",
    "    page = reader.pages[0]\n",
    "    web_text = page.extract_text()\n",
    "else:\n",
    "    request = urllib.request.Request(url = url_corp, headers=headers)\n",
    "    raw_response = urllib.request.urlopen(request).read()\n",
    "\n",
    "    str_html = raw_response.decode(encoding='utf-8', errors='ignore')\n",
    "    soup = BeautifulSoup(str_html, 'html.parser')\n",
    "    web_text = remove_tags(soup)\n",
    "\n",
    "with open('../compagny_data/' + corpo + '.txt', 'w') as f:\n",
    "    f.write(web_text)\n",
    "    "
   ]
  },
  {
   "cell_type": "code",
   "execution_count": null,
   "metadata": {},
   "outputs": [],
   "source": [
    "reader = PdfReader(\"temp.pdf\")\n",
    "text = \"\"\n",
    "for page in reader.pages:\n",
    "    text += page.extract_text() + \"\\n\""
   ]
  },
  {
   "cell_type": "code",
   "execution_count": 7,
   "metadata": {},
   "outputs": [],
   "source": [
    "def remove_tags(soup):\n",
    "\n",
    "    for data in soup(['style', 'script']):\n",
    "        # Remove tags\n",
    "        data.decompose()\n",
    " \n",
    "    # return data by retrieving the tag content\n",
    "    return ' '.join(soup.stripped_strings)"
   ]
  },
  {
   "cell_type": "code",
   "execution_count": 100,
   "metadata": {},
   "outputs": [],
   "source": [
    "web_text = remove_tags(soup)"
   ]
  },
  {
   "cell_type": "code",
   "execution_count": 102,
   "metadata": {},
   "outputs": [],
   "source": [
    "with open('../compagny_data/' + corpo + '.txt', 'w') as f:\n",
    "    f.write(web_text)"
   ]
  },
  {
   "cell_type": "code",
   "execution_count": 8,
   "metadata": {},
   "outputs": [],
   "source": [
    "def ifcontains(url_str, ignore_list):\n",
    "    res = [ele for ele in ignore_list if(ele in url_str)]\n",
    "    return bool(res)"
   ]
  },
  {
   "cell_type": "code",
   "execution_count": 125,
   "metadata": {},
   "outputs": [],
   "source": [
    "ignore_list = [\"reddit\", \"twitter\", \"dailywire\", \"guardian\", \"bbc\", \"\", \"forum\", \"\"]"
   ]
  },
  {
   "cell_type": "code",
   "execution_count": 11,
   "metadata": {},
   "outputs": [],
   "source": [
    "corps = pd.read_csv(\"company_names/corporation_names.csv\").name.tolist()"
   ]
  },
  {
   "cell_type": "code",
   "execution_count": 12,
   "metadata": {},
   "outputs": [],
   "source": [
    "def main(corpo):\n",
    "    keyword = \"climate\"\n",
    "    url = \"https://google.com/search?q=\" + corpo.replace(\" \", \"+\") + \"+\" + keyword\n",
    "    ignore_list = [\"reddit\", \"twitter\", \"dailywire\", \"guardian\", \"bbc\", \"cbc\", \"forum\", \"\"]\n",
    "    headers = {'User-Agent': 'Mozilla/5.0 (Macintosh; Intel Mac OS X 13_2_1) AppleWebKit/537.36 (KHTML, like Gecko) Chrome/111.0.0.0 Safari/537.36'}\n",
    "    \n",
    "    time.sleep(15)\n",
    "    request = urllib.request.Request(url = url, headers=headers)\n",
    "    raw_response = urllib.request.urlopen(request).read()\n",
    "    str_html = raw_response.decode(encoding='utf-8', errors='ignore')\n",
    "\n",
    "    soup = BeautifulSoup(str_html, 'html.parser')\n",
    "    link_txt = get_links(soup)\n",
    "\n",
    "    url_corp = link_txt[0]\n",
    "    for link in link_txt:\n",
    "        if link.endswith(\".pdf\") or ifcontains(link, ignore_list):\n",
    "            continue\n",
    "        else:\n",
    "            url_corp = link\n",
    "\n",
    "            with open(\"url_searched.txt\", \"a\") as myfile:\n",
    "                myfile.write(corpo + \",\" + url_corp + \"\\n\")\n",
    "\n",
    "            print(corpo, \" | \", url_corp)\n",
    "            break\n",
    "\n",
    "    time.sleep(10)\n",
    "    request = urllib.request.Request(url = url_corp, headers=headers)\n",
    "    raw_response = urllib.request.urlopen(request).read()\n",
    "\n",
    "    str_html = raw_response.decode(encoding='utf-8', errors='ignore')\n",
    "    soup = BeautifulSoup(str_html, 'html.parser')\n",
    "    web_text = remove_tags(soup)\n",
    "\n",
    "    output_name = '../company_data/' + corpo + '.txt'\n",
    "    if os.path.exists(output_name):\n",
    "        os.remove(output_name)\n",
    "\n",
    "    with open(output_name, 'w') as f:\n",
    "        f.write(web_text)"
   ]
  },
  {
   "cell_type": "code",
   "execution_count": null,
   "metadata": {},
   "outputs": [],
   "source": []
  }
 ],
 "metadata": {
  "kernelspec": {
   "display_name": "base",
   "language": "python",
   "name": "python3"
  },
  "language_info": {
   "codemirror_mode": {
    "name": "ipython",
    "version": 3
   },
   "file_extension": ".py",
   "mimetype": "text/x-python",
   "name": "python",
   "nbconvert_exporter": "python",
   "pygments_lexer": "ipython3",
   "version": "3.9.7"
  },
  "orig_nbformat": 4
 },
 "nbformat": 4,
 "nbformat_minor": 2
}
